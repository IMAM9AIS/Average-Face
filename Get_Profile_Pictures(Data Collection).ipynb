{
 "cells": [
  {
   "cell_type": "code",
   "execution_count": 5,
   "metadata": {
    "collapsed": true
   },
   "outputs": [],
   "source": [
    "#get the facebook module\n",
    "import facebook\n",
    "import urllib2\n",
    "import urllib\n",
    "import bs4\n",
    "import json\n",
    "from PIL import Image\n"
   ]
  },
  {
   "cell_type": "code",
   "execution_count": 5,
   "metadata": {
    "collapsed": true
   },
   "outputs": [],
   "source": [
    "#create access token and get the graphAPI object\n",
    "#You need to go to https://developers.facebook.com/tools/explorer and create a token for yourself.\n",
    "#Make sure you fill up all the checkpoints while requesting for a token\n",
    "access_token_got = '<My Token>'\n",
    "graph = facebook.GraphAPI(access_token=access_token_got,version=2.7)"
   ]
  },
  {
   "cell_type": "code",
   "execution_count": null,
   "metadata": {
    "collapsed": true
   },
   "outputs": [],
   "source": [
    "'''\n",
    "The results page on a particular query looks like this.\n",
    "\n",
    "{\n",
    "  \"data\": [\n",
    "    {\n",
    "      \"id\": \"Some ID\",\n",
    "      \"name\": \"Some Name\"\n",
    "    },\n",
    "    {\n",
    "      \"id\": \"Some ID\",\n",
    "      \"name\": \"Some Name\"\n",
    "    },\n",
    "    ....\n",
    "    \n",
    "  ],\n",
    "  \"paging\": {\n",
    "    \"cursors\": {\n",
    "      \"before\": \"Some ID\",\n",
    "      \"after\": \"Some ID\"\n",
    "    },\n",
    "    \"next\": \"next Link\"\n",
    "}\n",
    " \n",
    "It contains finite number of results so you basically need to go the next link for another set\n",
    "The next set of functions basically perform this work for us\n",
    "'''\n"
   ]
  },
  {
   "cell_type": "code",
   "execution_count": 16,
   "metadata": {
    "collapsed": true
   },
   "outputs": [],
   "source": [
    "#this is the result of the first page. The results have a name and id and then a next link . \n",
    "# I store the  ids as a list and i really don't care about the name and then move on to the next link till the next link is not null\n",
    "\n",
    "def store_data(data):\n",
    "    dictionary_ids = []\n",
    "    for chunks in data:\n",
    "        dictionary_ids.append(chunks['id'])\n",
    "    return dictionary_ids\n"
   ]
  },
  {
   "cell_type": "code",
   "execution_count": 3,
   "metadata": {},
   "outputs": [],
   "source": [
    "#this functions searches for the next link on the results page\n",
    "def get_next_link(data):\n",
    "    if data.has_key('next'):\n",
    "        return data['next']\n",
    "    return None"
   ]
  },
  {
   "cell_type": "code",
   "execution_count": 23,
   "metadata": {
    "collapsed": true
   },
   "outputs": [],
   "source": [
    "#this is the result of the first page. The results have a name and id and then a next link . \n",
    "# I store the  ids as a list and i really don't care about the name and then move on to the next link till the next link is not null\n",
    "\n",
    "def store_data(data):\n",
    "    dictionary_ids = []\n",
    "    for chunks in data:\n",
    "        dictionary_ids.append(chunks['id'])\n",
    "    return dictionary_ids\n",
    "\n"
   ]
  },
  {
   "cell_type": "code",
   "execution_count": 2,
   "metadata": {},
   "outputs": [],
   "source": [
    "#this gets the next link from each result data object\n",
    "def get_next_link(data):\n",
    "    if data.has_key('next'):\n",
    "        return data['next']\n",
    "    return None"
   ]
  },
  {
   "cell_type": "code",
   "execution_count": 6,
   "metadata": {
    "collapsed": true
   },
   "outputs": [],
   "source": [
    "#this pulls of the results from the link that is recieved\n",
    "def get_next_data_object(link):\n",
    "    req = urllib2.Request(link, headers={'User-Agent' : \"Magic Browser\"}) \n",
    "    source = urllib2.urlopen( req )\n",
    "    json_source = json.loads(source.read())\n",
    "    return json_source"
   ]
  },
  {
   "cell_type": "code",
   "execution_count": 1,
   "metadata": {
    "collapsed": true
   },
   "outputs": [],
   "source": [
    "#this function uses all the above function to create a comprehensive list of ids for querying profile pictures\n",
    "def create_list(page):\n",
    "    main_id_list = []\n",
    "    while(get_next_link(page['paging'])):\n",
    "        data_recieved = (store_data(data=page['data']))\n",
    "        main_id_list.extend(data_recieved)\n",
    "        page = get_next_data_object(get_next_link(page['paging']))\n",
    "    return main_id_list\n",
    "        "
   ]
  },
  {
   "cell_type": "code",
   "execution_count": 4,
   "metadata": {
    "collapsed": true
   },
   "outputs": [],
   "source": [
    "#this uses the ids to get the profile pictures()\n",
    "def get_pictures(id_list,graph_object):\n",
    "    for _id in id_list:\n",
    "        request_link_for_picture = str(_id)+\"/picture?height=1000&width=1000\"\n",
    "        data = graph_object.request(request_link_for_picture)\n",
    "        link_for_picture = data['url']\n",
    "        urllib.urlretrieve(link_for_picture,str(_id)+\".jpg\")\n",
    "        "
   ]
  },
  {
   "cell_type": "code",
   "execution_count": null,
   "metadata": {
    "collapsed": true
   },
   "outputs": [],
   "source": [
    "#Although i have not tested it with colored images yet, I was quite apprehensive that averaging the image with colors will\n",
    "#produce nice results  :P\n",
    "def convert_to_grayscale(id_list):\n",
    "    for ids in id_list:\n",
    "        name = str(ids)+\".jpg\"\n",
    "        img = Image.open(name).convert('L')\n",
    "        img.save(str(ids)+\"_gray.jpg\");"
   ]
  },
  {
   "cell_type": "code",
   "execution_count": 17,
   "metadata": {
    "collapsed": true
   },
   "outputs": [],
   "source": [
    "#now get the post id . I just went to my latest profile picture upload and found the id on the link\n",
    "first_page = graph.request('1342144572536371/likes')\n",
    "final_ids = create_list(first_page)\n",
    "get_pictures(final_ids,graph)\n",
    "convert_to_grayscale(final_ids)"
   ]
  }
 ],
 "metadata": {
  "kernelspec": {
   "display_name": "Python 2",
   "language": "python",
   "name": "python2"
  },
  "language_info": {
   "codemirror_mode": {
    "name": "ipython",
    "version": 2
   },
   "file_extension": ".py",
   "mimetype": "text/x-python",
   "name": "python",
   "nbconvert_exporter": "python",
   "pygments_lexer": "ipython2",
   "version": "2.7.14"
  }
 },
 "nbformat": 4,
 "nbformat_minor": 2
}
