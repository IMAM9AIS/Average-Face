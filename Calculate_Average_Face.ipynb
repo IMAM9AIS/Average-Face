{
 "cells": [
  {
   "cell_type": "code",
   "execution_count": 1,
   "metadata": {},
   "outputs": [
    {
     "name": "stdout",
     "output_type": "stream",
     "text": [
      "Populating the interactive namespace from numpy and matplotlib\n"
     ]
    }
   ],
   "source": [
    "%matplotlib inline\n",
    "import numpy as np\n",
    "import cv2\n",
    "import PIL\n",
    "from PIL import Image\n",
    "import glob, os\n",
    "from matplotlib import pyplot as plt\n",
    "%pylab inline\n"
   ]
  },
  {
   "cell_type": "code",
   "execution_count": 6,
   "metadata": {
    "collapsed": true
   },
   "outputs": [],
   "source": [
    "#given the list of id's this function will inturn return the images in a list \n",
    "def get_individual_faces(list_ids):\n",
    "    img = np.zeros(cv2.imread(str(list_ids[0])+\".jpg\",0).shape)\n",
    "    print img.shape\n",
    "    list_images = []\n",
    "    for _id in list_ids:\n",
    "        print _id\n",
    "        image_got = cv2.imread(str(_id)+\".jpg\",cv2.IMREAD_GRAYSCALE)\n",
    "        list_images.append(image_got)\n",
    "    return list_images\n",
    "    "
   ]
  },
  {
   "cell_type": "code",
   "execution_count": 7,
   "metadata": {
    "collapsed": true
   },
   "outputs": [],
   "source": [
    "'''\n",
    "I figured out i had quite a few females in the list(Not much popularity among them :P), So i penalized their data. Haha!\n",
    "I am now on a path to create an average male face from the people who liked my profile picture.\n",
    "Now i aggree i have been quite a lot lazy to just manually seperate the males from females. \n",
    "'''\n",
    "def get_id_list():\n",
    "    result = []\n",
    "    os.chdir('/Path/Begari/Extracted/male/')\n",
    "    for file in glob.glob(\"*_gray.jpg\"):\n",
    "        result.append(file[:-9])\n",
    "    return result"
   ]
  },
  {
   "cell_type": "code",
   "execution_count": null,
   "metadata": {
    "collapsed": true
   },
   "outputs": [],
   "source": [
    "result = get_id_list()\n",
    "list_images = get_individual_faces(result)"
   ]
  },
  {
   "cell_type": "code",
   "execution_count": 9,
   "metadata": {},
   "outputs": [],
   "source": [
    "#the sizes of images are not equal . So we need to go with the max size. This simply prints the maxmimum size in all images\n",
    "#mine was 768\n",
    "size = 0L\n",
    "for i in range(len(list_images)):\n",
    "    size = max(size,list_images[i].shape)"
   ]
  },
  {
   "cell_type": "code",
   "execution_count": null,
   "metadata": {},
   "outputs": [],
   "source": [
    "result = get_id_list()\n",
    "list_images = get_individual_faces(result)"
   ]
  },
  {
   "cell_type": "code",
   "execution_count": 10,
   "metadata": {},
   "outputs": [],
   "source": [
    "#finally resize the images to this size using opencv resize function\n",
    "new_list_images = []\n",
    "for image in list_images:\n",
    "    image = cv2.resize(image,(size[0],size[1]),interpolation = cv2.INTER_LINEAR)\n",
    "    new_list_images.append(image)"
   ]
  },
  {
   "cell_type": "code",
   "execution_count": 12,
   "metadata": {
    "collapsed": true
   },
   "outputs": [],
   "source": [
    "#finally this function creates the average face. \n",
    "def calulate_average():\n",
    "    w,h=new_list_images[0].shape\n",
    "    N=len(new_list_images)\n",
    "    arr=numpy.zeros((h,w),numpy.float)\n",
    "\n",
    "   \n",
    "    for image in new_list_images:\n",
    "        imarr=numpy.array(image,dtype=numpy.float)\n",
    "        arr=arr+imarr/N\n",
    "\n",
    "   \n",
    "    arr=numpy.array(numpy.round(arr),dtype=numpy.uint8)\n",
    "\n",
    "   \n",
    "    out=Image.fromarray(arr,mode=\"L\")\n",
    "    out.save(\"Average.png\")\n",
    "    out.show()"
   ]
  },
  {
   "cell_type": "code",
   "execution_count": 102,
   "metadata": {
    "collapsed": true
   },
   "outputs": [],
   "source": [
    "calculate_average_face()\n"
   ]
  }
 ],
 "metadata": {
  "kernelspec": {
   "display_name": "Python 2",
   "language": "python",
   "name": "python2"
  },
  "language_info": {
   "codemirror_mode": {
    "name": "ipython",
    "version": 2
   },
   "file_extension": ".py",
   "mimetype": "text/x-python",
   "name": "python",
   "nbconvert_exporter": "python",
   "pygments_lexer": "ipython2",
   "version": "2.7.14"
  }
 },
 "nbformat": 4,
 "nbformat_minor": 2
}
