{
 "cells": [
  {
   "cell_type": "code",
   "execution_count": 1,
   "metadata": {
    "collapsed": true
   },
   "outputs": [],
   "source": [
    "from random import randint\n",
    "import cv2\n",
    "import sys\n",
    "import os\n",
    "import glob, os"
   ]
  },
  {
   "cell_type": "code",
   "execution_count": 7,
   "metadata": {
    "collapsed": true
   },
   "outputs": [],
   "source": [
    "'''\n",
    "This code is shamelessly copied from https://github.com/JeeveshN/Face-Detect/blob/master/detect_face.py\n",
    "'''\n",
    "CASCADE=\"Face_cascade.xml\"\n",
    "FACE_CASCADE=cv2.CascadeClassifier(CASCADE)\n",
    "\n",
    "def detect_faces(image_path):\n",
    "    image=cv2.imread(image_path)\n",
    "    image_grey=cv2.cvtColor(image,cv2.COLOR_BGR2GRAY)\n",
    "\n",
    "    faces = FACE_CASCADE.detectMultiScale(image_grey,scaleFactor=1.16,minNeighbors=5,minSize=(25,25),flags=0)\n",
    "\n",
    "    for x,y,w,h in faces:\n",
    "        sub_img=image[y-10:y+h+10,x-10:x+w+10]\n",
    "        os.chdir(\"Extracted\")\n",
    "        cv2.imwrite(str(image_path),sub_img)\n",
    "        os.chdir(\"../\")\n",
    "        cv2.rectangle(image,(x,y),(x+w,y+h),(255, 255,0),2)\n",
    "    \n",
    "  \n",
    "\n",
    "    "
   ]
  },
  {
   "cell_type": "code",
   "execution_count": 23,
   "metadata": {
    "collapsed": true
   },
   "outputs": [],
   "source": [
    "#this function extracts faces from every image.\n",
    "def draw_rectangle(id_list):\n",
    "    for _id in id_list:\n",
    "        detect_faces(str(_id)+\".jpg\")"
   ]
  },
  {
   "cell_type": "code",
   "execution_count": 17,
   "metadata": {
    "collapsed": true
   },
   "outputs": [],
   "source": [
    "#this gets all the files that ends with _gray.jpg , that is the images we saved in grayscale\n",
    "def get_id_list():\n",
    "    result = []\n",
    "    for file in glob.glob(\"*_gray.jpg\"):\n",
    "        result.append(file[:-9])\n",
    "    return result"
   ]
  },
  {
   "cell_type": "code",
   "execution_count": null,
   "metadata": {},
   "outputs": [],
   "source": [
    "id_list = get_id_list()\n",
    "draw_rectangle(id_list)"
   ]
  }
 ],
 "metadata": {
  "kernelspec": {
   "display_name": "Python 2",
   "language": "python",
   "name": "python2"
  },
  "language_info": {
   "codemirror_mode": {
    "name": "ipython",
    "version": 2
   },
   "file_extension": ".py",
   "mimetype": "text/x-python",
   "name": "python",
   "nbconvert_exporter": "python",
   "pygments_lexer": "ipython2",
   "version": "2.7.14"
  }
 },
 "nbformat": 4,
 "nbformat_minor": 2
}
